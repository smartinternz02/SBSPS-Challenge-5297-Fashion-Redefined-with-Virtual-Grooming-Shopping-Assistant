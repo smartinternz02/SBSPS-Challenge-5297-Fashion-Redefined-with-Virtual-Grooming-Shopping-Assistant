{
 "cells": [
  {
   "cell_type": "code",
   "execution_count": 16,
   "id": "c64c028d",
   "metadata": {},
   "outputs": [],
   "source": [
    "from tensorflow.keras.models import Sequential\n",
    "from tensorflow.keras.layers import Dense\n",
    "from tensorflow.keras.layers import Convolution2D\n",
    "from tensorflow.keras.layers import MaxPooling2D\n",
    "from tensorflow.keras.layers import Flatten"
   ]
  },
  {
   "cell_type": "code",
   "execution_count": 17,
   "id": "00ac8265",
   "metadata": {},
   "outputs": [],
   "source": [
    "from tensorflow.keras.preprocessing.image import ImageDataGenerator\n",
    "train_datagen = ImageDataGenerator(rescale=1./255, shear_range=0.2, zoom_range=0.2, horizontal_flip= True)\n",
    "test_datagen  = ImageDataGenerator(rescale=1./255)"
   ]
  },
  {
   "cell_type": "code",
   "execution_count": 18,
   "id": "e363a8b9",
   "metadata": {},
   "outputs": [
    {
     "name": "stdout",
     "output_type": "stream",
     "text": [
      "Found 11789 images belonging to 63 classes.\n",
      "Found 2504 images belonging to 63 classes.\n"
     ]
    }
   ],
   "source": [
    "x_train = train_datagen.flow_from_directory(r\"C:\\Users\\sushanth\\Downloads\\Final Fashion Dataset\\Train\", target_size=(64,64), batch_size=128, class_mode=\"categorical\")\n",
    "x_test  = test_datagen.flow_from_directory(r\"C:\\Users\\sushanth\\Downloads\\Final Fashion Dataset\\Test\", target_size=(64,64), batch_size=128, class_mode=\"categorical\")"
   ]
  },
  {
   "cell_type": "code",
   "execution_count": 19,
   "id": "6392ef72",
   "metadata": {},
   "outputs": [
    {
     "data": {
      "text/plain": [
       "{'Belt': 0,\n",
       " 'Cap': 1,\n",
       " 'Casual Shoes': 2,\n",
       " 'Cooling Glass': 3,\n",
       " 'Female Ballerina Flat Sandal': 4,\n",
       " 'Female Casual Pant': 5,\n",
       " 'Female Checked Casual Shirt': 6,\n",
       " 'Female Club Wear Top': 7,\n",
       " 'Female Collar T-Shirt': 8,\n",
       " 'Female Fashion Layered Top': 9,\n",
       " 'Female Flat Sandal': 10,\n",
       " 'Female Formal Pant': 11,\n",
       " 'Female Formal Shirt': 12,\n",
       " 'Female Gathering Pant': 13,\n",
       " 'Female Gladiator Sandal': 14,\n",
       " 'Female Graphic T-Shirt': 15,\n",
       " 'Female Heels': 16,\n",
       " 'Female Jean Pant': 17,\n",
       " 'Female Jerkin': 18,\n",
       " 'Female Kurti': 19,\n",
       " 'Female Legin': 20,\n",
       " 'Female Patiala Pant': 21,\n",
       " 'Female Round-Neck T-Shirt': 22,\n",
       " 'Female Salvar': 23,\n",
       " 'Female Sarees': 24,\n",
       " 'Female Short Sleeve Top': 25,\n",
       " 'Female Skirts': 26,\n",
       " 'Female Sleeve Top': 27,\n",
       " 'Female Sleeveless Top': 28,\n",
       " 'Female Strap Sandal': 29,\n",
       " 'Female Strip Top': 30,\n",
       " 'Female Tank Top': 31,\n",
       " 'Female Tube Top': 32,\n",
       " 'Female V-Neck T-Shirt': 33,\n",
       " 'Formal Shoes': 34,\n",
       " 'Handbag': 35,\n",
       " 'Male Belt Sandal': 36,\n",
       " 'Male Casual Pant': 37,\n",
       " 'Male Checked Casual Shirt': 38,\n",
       " 'Male Checked Formal Shirt': 39,\n",
       " 'Male Collar T-Shirt': 40,\n",
       " 'Male Flat Sandal': 41,\n",
       " 'Male Formal Pant': 42,\n",
       " 'Male Formals Shirt': 43,\n",
       " 'Male Graphic T-Shirt': 44,\n",
       " 'Male Jean Pant': 45,\n",
       " 'Male Jerkin': 46,\n",
       " 'Male Plain Casual Shirt': 47,\n",
       " 'Male Plain T-Shirt': 48,\n",
       " 'Male Round-Neck T-Shirt': 49,\n",
       " 'Male Sportswear T-Shirt': 50,\n",
       " 'Male Strap Sandal': 51,\n",
       " 'Male Striped Casual Shirt': 52,\n",
       " 'Male Striped Formal Shirt': 53,\n",
       " 'Male Striped T-Shirt': 54,\n",
       " 'Male V-Neck T-Shirt': 55,\n",
       " 'Purse': 56,\n",
       " 'Ring': 57,\n",
       " 'Sports Shoes': 58,\n",
       " 'Stole': 59,\n",
       " 'Tie': 60,\n",
       " 'Wallet': 61,\n",
       " 'Watch': 62}"
      ]
     },
     "execution_count": 19,
     "metadata": {},
     "output_type": "execute_result"
    }
   ],
   "source": [
    "x_train.class_indices"
   ]
  },
  {
   "cell_type": "code",
   "execution_count": 20,
   "id": "205f25b7",
   "metadata": {},
   "outputs": [],
   "source": [
    "model = Sequential()"
   ]
  },
  {
   "cell_type": "code",
   "execution_count": 21,
   "id": "f02cfb78",
   "metadata": {},
   "outputs": [],
   "source": [
    "model.add(Convolution2D(32, (3,3),input_shape = (64,64,3),activation = \"relu\"))"
   ]
  },
  {
   "cell_type": "code",
   "execution_count": 22,
   "id": "3fec086a",
   "metadata": {},
   "outputs": [],
   "source": [
    "model.add(MaxPooling2D(pool_size = (2,2)))"
   ]
  },
  {
   "cell_type": "code",
   "execution_count": 23,
   "id": "0a353a5e",
   "metadata": {},
   "outputs": [],
   "source": [
    "model.add(Flatten())"
   ]
  },
  {
   "cell_type": "code",
   "execution_count": 24,
   "id": "b49e30a5",
   "metadata": {},
   "outputs": [],
   "source": [
    "model.add(Dense(units=128, kernel_initializer= \"random_uniform\", activation=\"relu\"))"
   ]
  },
  {
   "cell_type": "code",
   "execution_count": 25,
   "id": "9a32119f",
   "metadata": {},
   "outputs": [],
   "source": [
    "model.add(Dense(units=63, kernel_initializer= \"random_uniform\", activation=\"softmax\"))"
   ]
  },
  {
   "cell_type": "code",
   "execution_count": 26,
   "id": "f34b99a7",
   "metadata": {},
   "outputs": [],
   "source": [
    "model.compile(loss=\"categorical_crossentropy\", optimizer=\"adam\", metrics=[\"accuracy\"])"
   ]
  },
  {
   "cell_type": "code",
   "execution_count": null,
   "id": "4aaafa44",
   "metadata": {
    "scrolled": true
   },
   "outputs": [
    {
     "name": "stdout",
     "output_type": "stream",
     "text": [
      "Epoch 1/50\n",
      "92/92 [==============================] - 1002s 11s/step - loss: 3.2625 - accuracy: 0.2038 - val_loss: 2.2135 - val_accuracy: 0.3403\n",
      "Epoch 2/50\n",
      "92/92 [==============================] - 1030s 11s/step - loss: 2.0512 - accuracy: 0.4186 - val_loss: 1.7228 - val_accuracy: 0.4916\n",
      "Epoch 3/50\n",
      "92/92 [==============================] - 868s 9s/step - loss: 1.7124 - accuracy: 0.4981 - val_loss: 1.5195 - val_accuracy: 0.5455\n",
      "Epoch 4/50\n",
      "92/92 [==============================] - 1265s 14s/step - loss: 1.5376 - accuracy: 0.5447 - val_loss: 1.5072 - val_accuracy: 0.5415\n",
      "Epoch 5/50\n",
      "92/92 [==============================] - 2090s 23s/step - loss: 1.4219 - accuracy: 0.5679 - val_loss: 1.3277 - val_accuracy: 0.6014\n",
      "Epoch 6/50\n",
      "92/92 [==============================] - 977s 11s/step - loss: 1.3307 - accuracy: 0.5940 - val_loss: 1.2031 - val_accuracy: 0.6410\n",
      "Epoch 7/50\n",
      "92/92 [==============================] - ETA: 0s - loss: 1.2396 - accuracy: 0.6192"
     ]
    }
   ],
   "source": [
    "model.fit_generator(x_train, steps_per_epoch=92, epochs=50,validation_data=x_test, validation_steps=20)"
   ]
  },
  {
   "cell_type": "code",
   "execution_count": 28,
   "id": "da9b6b23",
   "metadata": {},
   "outputs": [],
   "source": [
    "model.save(\"C:\\\\Users\\\\sushanth\\\\Downloads\\\\Final Fashion Dataset\\\\Fashion_Prediction_Model_New.h5\")"
   ]
  },
  {
   "cell_type": "code",
   "execution_count": null,
   "id": "6b2ebda0",
   "metadata": {},
   "outputs": [],
   "source": []
  }
 ],
 "metadata": {
  "kernelspec": {
   "display_name": "Python 3",
   "language": "python",
   "name": "python3"
  },
  "language_info": {
   "codemirror_mode": {
    "name": "ipython",
    "version": 3
   },
   "file_extension": ".py",
   "mimetype": "text/x-python",
   "name": "python",
   "nbconvert_exporter": "python",
   "pygments_lexer": "ipython3",
   "version": "3.8.8"
  }
 },
 "nbformat": 4,
 "nbformat_minor": 5
}
